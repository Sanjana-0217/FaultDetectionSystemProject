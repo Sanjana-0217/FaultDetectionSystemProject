{
 "cells": [
  {
   "cell_type": "code",
   "execution_count": 1,
   "id": "b4a19ea9",
   "metadata": {
    "scrolled": true
   },
   "outputs": [],
   "source": [
    "import pandas as pd\n",
    "import numpy as np\n",
    "from tensorflow.keras.models import Sequential\n",
    "from tensorflow.keras.layers import LSTM, Dense\n",
    "import os\n",
    "import matplotlib.pyplot as plt\n",
    "import seaborn as sns"
   ]
  },
  {
   "cell_type": "code",
   "execution_count": 2,
   "id": "5bda8cd4",
   "metadata": {
    "scrolled": true
   },
   "outputs": [],
   "source": [
    "os.chdir(\"C:\\\\Users\\\\ASC\\\\Downloads\")"
   ]
  },
  {
   "cell_type": "code",
   "execution_count": 3,
   "id": "34ddc14c",
   "metadata": {
    "scrolled": true
   },
   "outputs": [
    {
     "data": {
      "text/html": [
       "<div>\n",
       "<style scoped>\n",
       "    .dataframe tbody tr th:only-of-type {\n",
       "        vertical-align: middle;\n",
       "    }\n",
       "\n",
       "    .dataframe tbody tr th {\n",
       "        vertical-align: top;\n",
       "    }\n",
       "\n",
       "    .dataframe thead th {\n",
       "        text-align: right;\n",
       "    }\n",
       "</style>\n",
       "<table border=\"1\" class=\"dataframe\">\n",
       "  <thead>\n",
       "    <tr style=\"text-align: right;\">\n",
       "      <th></th>\n",
       "      <th>4.52 V\\t\\t9.71 A\\t\\t28.90 °C</th>\n",
       "    </tr>\n",
       "  </thead>\n",
       "  <tbody>\n",
       "    <tr>\n",
       "      <th>0</th>\n",
       "      <td>4.69 V\\t\\t8.61 A\\t\\t22.65 °C</td>\n",
       "    </tr>\n",
       "    <tr>\n",
       "      <th>1</th>\n",
       "      <td>1.78 V\\t\\t1.52 A\\t\\t23.28 °C</td>\n",
       "    </tr>\n",
       "    <tr>\n",
       "      <th>2</th>\n",
       "      <td>1.00 V\\t\\t8.86 A\\t\\t20.54 °C</td>\n",
       "    </tr>\n",
       "    <tr>\n",
       "      <th>3</th>\n",
       "      <td>1.83 V\\t\\t9.03 A\\t\\t22.01 °C</td>\n",
       "    </tr>\n",
       "    <tr>\n",
       "      <th>4</th>\n",
       "      <td>2.11 V\\t\\t3.41 A\\t\\t24.22 °C</td>\n",
       "    </tr>\n",
       "    <tr>\n",
       "      <th>5</th>\n",
       "      <td>3.93 V\\t\\t6.13 A\\t\\t20.19 °C</td>\n",
       "    </tr>\n",
       "    <tr>\n",
       "      <th>6</th>\n",
       "      <td>2.97 V\\t\\t9.62 A\\t\\t23.50 °C</td>\n",
       "    </tr>\n",
       "    <tr>\n",
       "      <th>7</th>\n",
       "      <td>4.89 V\\t\\t7.60 A\\t\\t20.13 °C</td>\n",
       "    </tr>\n",
       "    <tr>\n",
       "      <th>8</th>\n",
       "      <td>3.68 V\\t\\t2.22 A\\t\\t21.23 °C</td>\n",
       "    </tr>\n",
       "    <tr>\n",
       "      <th>9</th>\n",
       "      <td>2.66 V\\t\\t1.73 A\\t\\t20.32 °C</td>\n",
       "    </tr>\n",
       "    <tr>\n",
       "      <th>10</th>\n",
       "      <td>1.37 V\\t\\t4.72 A\\t\\t27.40 °C</td>\n",
       "    </tr>\n",
       "    <tr>\n",
       "      <th>11</th>\n",
       "      <td>4.96 V\\t\\t7.65 A\\t\\t29.40 °C</td>\n",
       "    </tr>\n",
       "    <tr>\n",
       "      <th>12</th>\n",
       "      <td>3.65 V\\t\\t1.23 A\\t\\t23.38 °C</td>\n",
       "    </tr>\n",
       "    <tr>\n",
       "      <th>13</th>\n",
       "      <td>3.88 V\\t\\t5.68 A\\t\\t20.61 °C</td>\n",
       "    </tr>\n",
       "    <tr>\n",
       "      <th>14</th>\n",
       "      <td>4.14 V\\t\\t6.08 A\\t\\t28.99 °C</td>\n",
       "    </tr>\n",
       "    <tr>\n",
       "      <th>15</th>\n",
       "      <td>4.18 V\\t\\t2.20 A\\t\\t23.71 °C</td>\n",
       "    </tr>\n",
       "    <tr>\n",
       "      <th>16</th>\n",
       "      <td>2.65 V\\t\\t9.74 A\\t\\t28.95 °C</td>\n",
       "    </tr>\n",
       "    <tr>\n",
       "      <th>17</th>\n",
       "      <td>4.48 V\\t\\t6.27 A\\t\\t23.60 °C</td>\n",
       "    </tr>\n",
       "    <tr>\n",
       "      <th>18</th>\n",
       "      <td>1.93 V\\t\\t6.87 A\\t\\t29.10 °C</td>\n",
       "    </tr>\n",
       "    <tr>\n",
       "      <th>19</th>\n",
       "      <td>1.84 V\\t\\t7.58 A\\t\\t24.91 °C</td>\n",
       "    </tr>\n",
       "    <tr>\n",
       "      <th>20</th>\n",
       "      <td>4.94 V\\t\\t5.11 A\\t\\t28.79 °C</td>\n",
       "    </tr>\n",
       "    <tr>\n",
       "      <th>21</th>\n",
       "      <td>3.06 V\\t\\t2.22 A\\t\\t24.81 °C</td>\n",
       "    </tr>\n",
       "    <tr>\n",
       "      <th>22</th>\n",
       "      <td>4.74 V\\t\\t3.15 A\\t\\t24.39 °C</td>\n",
       "    </tr>\n",
       "    <tr>\n",
       "      <th>23</th>\n",
       "      <td>3.75 V\\t\\t3.88 A\\t\\t20.08 °C</td>\n",
       "    </tr>\n",
       "    <tr>\n",
       "      <th>24</th>\n",
       "      <td>3.12 V\\t\\t7.09 A\\t\\t22.10 °C</td>\n",
       "    </tr>\n",
       "    <tr>\n",
       "      <th>25</th>\n",
       "      <td>4.44 V\\t\\t2.08 A\\t\\t23.17 °C</td>\n",
       "    </tr>\n",
       "    <tr>\n",
       "      <th>26</th>\n",
       "      <td>2.83 V\\t\\t4.23 A\\t\\t26.42 °C</td>\n",
       "    </tr>\n",
       "    <tr>\n",
       "      <th>27</th>\n",
       "      <td>2.89 V\\t\\t5.81 A\\t\\t24.17 °C</td>\n",
       "    </tr>\n",
       "  </tbody>\n",
       "</table>\n",
       "</div>"
      ],
      "text/plain": [
       "    4.52 V\\t\\t9.71 A\\t\\t28.90 °C\n",
       "0   4.69 V\\t\\t8.61 A\\t\\t22.65 °C\n",
       "1   1.78 V\\t\\t1.52 A\\t\\t23.28 °C\n",
       "2   1.00 V\\t\\t8.86 A\\t\\t20.54 °C\n",
       "3   1.83 V\\t\\t9.03 A\\t\\t22.01 °C\n",
       "4   2.11 V\\t\\t3.41 A\\t\\t24.22 °C\n",
       "5   3.93 V\\t\\t6.13 A\\t\\t20.19 °C\n",
       "6   2.97 V\\t\\t9.62 A\\t\\t23.50 °C\n",
       "7   4.89 V\\t\\t7.60 A\\t\\t20.13 °C\n",
       "8   3.68 V\\t\\t2.22 A\\t\\t21.23 °C\n",
       "9   2.66 V\\t\\t1.73 A\\t\\t20.32 °C\n",
       "10  1.37 V\\t\\t4.72 A\\t\\t27.40 °C\n",
       "11  4.96 V\\t\\t7.65 A\\t\\t29.40 °C\n",
       "12  3.65 V\\t\\t1.23 A\\t\\t23.38 °C\n",
       "13  3.88 V\\t\\t5.68 A\\t\\t20.61 °C\n",
       "14  4.14 V\\t\\t6.08 A\\t\\t28.99 °C\n",
       "15  4.18 V\\t\\t2.20 A\\t\\t23.71 °C\n",
       "16  2.65 V\\t\\t9.74 A\\t\\t28.95 °C\n",
       "17  4.48 V\\t\\t6.27 A\\t\\t23.60 °C\n",
       "18  1.93 V\\t\\t6.87 A\\t\\t29.10 °C\n",
       "19  1.84 V\\t\\t7.58 A\\t\\t24.91 °C\n",
       "20  4.94 V\\t\\t5.11 A\\t\\t28.79 °C\n",
       "21  3.06 V\\t\\t2.22 A\\t\\t24.81 °C\n",
       "22  4.74 V\\t\\t3.15 A\\t\\t24.39 °C\n",
       "23  3.75 V\\t\\t3.88 A\\t\\t20.08 °C\n",
       "24  3.12 V\\t\\t7.09 A\\t\\t22.10 °C\n",
       "25  4.44 V\\t\\t2.08 A\\t\\t23.17 °C\n",
       "26  2.83 V\\t\\t4.23 A\\t\\t26.42 °C\n",
       "27  2.89 V\\t\\t5.81 A\\t\\t24.17 °C"
      ]
     },
     "execution_count": 3,
     "metadata": {},
     "output_type": "execute_result"
    }
   ],
   "source": [
    "df = pd.read_csv(\"generateddata.csv\", skiprows=2) #Skip the header lines\n",
    "df"
   ]
  },
  {
   "cell_type": "code",
   "execution_count": 4,
   "id": "c45ced73",
   "metadata": {
    "scrolled": true
   },
   "outputs": [],
   "source": [
    "# Split the data into voltage, current, and temperature readings\n",
    "voltage = 'data[:, 0]'\n",
    "current = 'data[:, 1]'\n",
    "temperature = 'data[:, 2]'"
   ]
  },
  {
   "cell_type": "code",
   "execution_count": 14,
   "id": "5a653221",
   "metadata": {
    "scrolled": true
   },
   "outputs": [],
   "source": [
    "\n",
    "# Normalize the data\n",
    "voltage_norm = 'float(voltage - np.min(voltage)) / (np.max(voltage) - np.min(voltage))'\n",
    "current_norm = 'float(current - np.min(current)) / (np.max(current) - np.min(current))'\n",
    "temperature_norm ='float(temperature - np.min(temperature)) / (np.max(temperature) - np.min(temperature))'\n"
   ]
  },
  {
   "cell_type": "code",
   "execution_count": 6,
   "id": "696ee081",
   "metadata": {
    "scrolled": true
   },
   "outputs": [],
   "source": [
    "# Combine the normalized data into input sequences\n",
    "X = np.stack((voltage_norm, current_norm, temperature_norm), axis=-1)"
   ]
  },
  {
   "cell_type": "code",
   "execution_count": 7,
   "id": "b39436cd",
   "metadata": {
    "scrolled": true
   },
   "outputs": [
    {
     "data": {
      "text/plain": [
       "'y[-1] = voltage_norm[-1]'"
      ]
     },
     "execution_count": 7,
     "metadata": {},
     "output_type": "execute_result"
    }
   ],
   "source": [
    "# Generate labels (predicting next voltage value)\n",
    "'y = np.roll(voltage_norm,-1)'\n",
    "'y[-1] = voltage_norm[-1]' # Set last value to current value for consistency"
   ]
  },
  {
   "cell_type": "code",
   "execution_count": 8,
   "id": "e147996a",
   "metadata": {
    "scrolled": true
   },
   "outputs": [
    {
     "data": {
      "text/plain": [
       "'y = y.reshape(-1, 1)'"
      ]
     },
     "execution_count": 8,
     "metadata": {},
     "output_type": "execute_result"
    }
   ],
   "source": [
    "# Reshape data for input to RNN\n",
    "'X = X.reshape(-1, 1, 3)'\n",
    "'y = y.reshape(-1, 1)'"
   ]
  },
  {
   "cell_type": "code",
   "execution_count": 9,
   "id": "ea94b7d6",
   "metadata": {
    "scrolled": true
   },
   "outputs": [
    {
     "name": "stderr",
     "output_type": "stream",
     "text": [
      "C:\\local disk c\\Lib\\site-packages\\keras\\src\\layers\\rnn\\rnn.py:204: UserWarning: Do not pass an `input_shape`/`input_dim` argument to a layer. When using Sequential models, prefer using an `Input(shape)` object as the first layer in the model instead.\n",
      "  super().__init__(**kwargs)\n"
     ]
    }
   ],
   "source": [
    "# Define and compile the RNN model\n",
    "model = Sequential([\n",
    "    LSTM(units=64, input_shape=(1, 3)),\n",
    "    Dense(units=1)\n",
    "])\n",
    "\n",
    "model.compile(optimizer='adam', loss='mean_squared_error')"
   ]
  },
  {
   "cell_type": "code",
   "execution_count": 10,
   "id": "678babf2",
   "metadata": {
    "scrolled": true
   },
   "outputs": [
    {
     "data": {
      "text/plain": [
       "'model.fit(X,y,epochs=10,batch_size=1)'"
      ]
     },
     "execution_count": 10,
     "metadata": {},
     "output_type": "execute_result"
    }
   ],
   "source": [
    "# Train the model\n",
    "'model.fit(X,y,epochs=10,batch_size=1)'"
   ]
  },
  {
   "cell_type": "code",
   "execution_count": 11,
   "id": "a8a0ff4c",
   "metadata": {
    "scrolled": true
   },
   "outputs": [],
   "source": [
    "#Data for battery fault detection \n",
    "time=[1,2,3,4,5]\n",
    "#Time in hours\n",
    "voltage=[4.18,3.93,3.68,2.97,2.65]\n",
    "#Battery voltage in volts"
   ]
  },
  {
   "cell_type": "code",
   "execution_count": 12,
   "id": "011e4cf8",
   "metadata": {
    "scrolled": true
   },
   "outputs": [
    {
     "data": {
      "text/plain": [
       "<function matplotlib.pyplot.show(close=None, block=None)>"
      ]
     },
     "execution_count": 12,
     "metadata": {},
     "output_type": "execute_result"
    },
    {
     "data": {
      "image/png": "[encoded data removed]",
      "text/plain": [
       "<Figure size 640x480 with 1 Axes>"
      ]
     },
     "metadata": {},
     "output_type": "display_data"
    }
   ],
   "source": [
    "#Plotting the predictions\n",
    "from sklearn import metrics\n",
    "'matrix=metrics.confusion_matrix(Y_predicted,Y_test)'\n",
    "\n",
    "#Plotting the line graph\n",
    "plt.plot(time,voltage,marker='o',linestyle='-',color='blue')\n",
    "\n",
    "#Adding lables and title\n",
    "plt.xlabel('Time(hours)')\n",
    "plt.ylabel('Battery Voltage (volts)')  \n",
    "plt.title('Battery Fault Detection')    \n",
    "\n",
    "#Displaying the graph\n",
    "plt.show"
   ]
  },
  {
   "cell_type": "code",
   "execution_count": null,
   "id": "12e6f73d",
   "metadata": {
    "scrolled": true
   },
   "outputs": [],
   "source": []
  },
  {
   "cell_type": "code",
   "execution_count": null,
   "id": "af264793",
   "metadata": {
    "scrolled": true
   },
   "outputs": [],
   "source": []
  }
 ],
 "metadata": {
  "kernelspec": {
   "display_name": "Python 3 (ipykernel)",
   "language": "python",
   "name": "python3"
  },
  "language_info": {
   "codemirror_mode": {
    "name": "ipython",
    "version": 3
   },
   "file_extension": ".py",
   "mimetype": "text/x-python",
   "name": "python",
   "nbconvert_exporter": "python",
   "pygments_lexer": "ipython3",
   "version": "3.11.5"
  }
 },
 "nbformat": 4,
 "nbformat_minor": 5
}
